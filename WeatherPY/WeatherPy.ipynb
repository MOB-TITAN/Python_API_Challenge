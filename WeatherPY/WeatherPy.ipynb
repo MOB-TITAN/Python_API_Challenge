{
 "metadata": {
  "language_info": {
   "codemirror_mode": {
    "name": "ipython",
    "version": 3
   },
   "file_extension": ".py",
   "mimetype": "text/x-python",
   "name": "python",
   "nbconvert_exporter": "python",
   "pygments_lexer": "ipython3",
   "version": "3.8.3-final"
  },
  "orig_nbformat": 2,
  "kernelspec": {
   "name": "Python 3.8.3 64-bit",
   "display_name": "Python 3.8.3 64-bit",
   "metadata": {
    "interpreter": {
     "hash": "2db524e06e9f5f4ffedc911c917cb75e12dbc923643829bf417064a77eb14d37"
    }
   }
  }
 },
 "nbformat": 4,
 "nbformat_minor": 2,
 "cells": [
  {
   "cell_type": "code",
   "execution_count": 96,
   "metadata": {},
   "outputs": [],
   "source": [
    "from citipy import citipy\n",
    "import csv \n",
    "import json\n",
    "import requests\n",
    "import urllib.request\n",
    "from decimal import Decimal\n",
    "import random\n",
    "city = citipy._world_cities_csv_path\n",
    "city_coord ={}\n",
    "line_count = 0\n",
    "\n",
    "\n"
   ]
  },
  {
   "source": [
    "with open(city) as city_csv:\n",
    "    cityread = csv.reader(city_csv,delimiter=\",\")\n",
    "    rowcount= sum(1 for line in cityread ) #counts number of rows in the csv\n",
    "    j = random.sample(range(1,rowcount),500)\n",
    "    Num = sorted(j)\n",
    "    for row in cityread:\n",
    "        if line_count==0:\n",
    "            line_count += 1\n",
    "            print(\"run1\")\n",
    "        else:\n",
    "            print(\"run1\")\n",
    "            line_count += 1\n",
    "            if line_count == Num[0]:\n",
    "                    city_coord[row[1]] = row[1:]\n",
    "                    Num.remove(Num[0])\n",
    "\n",
    "        if len(Num)==0:\n",
    "            break    \n",
    "    # print(rowcount)\n",
    "    # city_csv.seek(0)\n",
    "    # rem = 500\n",
    "    \n",
    "    # for row in cityread:\n",
    "    #     random_line=random.sample(0,rowcount)\n",
    "    #     if line_count == 0:\n",
    "    #         line_count += 1\n",
    "    #     else:\n",
    "    #         if line_count == random_line\n",
    "    #         city_coord[row[1]]=[]\n",
    "    #         line_count += 1   \n",
    "\n",
    "    #     if line_count == 500:\n",
    "    #          break\n",
    "\n",
    "    print(f'Processed {line_count} lines.', city_coord, rowcount, len(Num))\n",
    "         \n"
   ],
   "cell_type": "code",
   "metadata": {
    "tags": []
   },
   "execution_count": 97,
   "outputs": [
    {
     "output_type": "stream",
     "name": "stdout",
     "text": "Processed 0 lines. {} 46833 500\n"
    }
   ]
  },
  {
   "cell_type": "code",
   "execution_count": 98,
   "metadata": {
    "tags": []
   },
   "outputs": [
    {
     "output_type": "stream",
     "name": "stdout",
     "text": "b'{\"lat\":33.44,\"lon\":-94.04,\"timezone\":\"America/Chicago\",\"timezone_offset\":-18000,\"current\":{\"dt\":1601459716,\"sunrise\":1601467801,\"sunset\":1601510504,\"temp\":285.2,\"feels_like\":283.48,\"pressure\":1017,\"humidity\":81,\"dew_point\":282.04,\"uvi\":6.89,\"clouds\":1,\"visibility\":10000,\"wind_speed\":2.1,\"wind_deg\":210,\"weather\":[{\"id\":800,\"main\":\"Clear\",\"description\":\"clear sky\",\"icon\":\"01n\"}]}}'\n"
    }
   ],
   "source": [
    "resp = urllib.request.Request(\"https://api.openweathermap.org/data/2.5/onecall?lat=33.441792&lon=-94.037689&exclude=minutely,hourly,daily&appid=1e08dff2a8490d51b4a0f2ab8c1e919e\")\n",
    "with urllib.request.urlopen(resp) as response:\n",
    "    data = response.read()\n",
    "    print(data)\n"
   ]
  },
  {
   "cell_type": "code",
   "execution_count": null,
   "metadata": {},
   "outputs": [],
   "source": []
  }
 ]
}