{
 "metadata": {
  "language_info": {
   "codemirror_mode": {
    "name": "ipython",
    "version": 3
   },
   "file_extension": ".py",
   "mimetype": "text/x-python",
   "name": "python",
   "nbconvert_exporter": "python",
   "pygments_lexer": "ipython3",
   "version": "3.8.3-final"
  },
  "orig_nbformat": 2,
  "kernelspec": {
   "name": "Python 3.8.3 64-bit",
   "display_name": "Python 3.8.3 64-bit",
   "metadata": {
    "interpreter": {
     "hash": "2db524e06e9f5f4ffedc911c917cb75e12dbc923643829bf417064a77eb14d37"
    }
   }
  }
 },
 "nbformat": 4,
 "nbformat_minor": 2,
 "cells": [
  {
   "cell_type": "code",
   "execution_count": 6,
   "metadata": {},
   "outputs": [],
   "source": [
    "from citipy import citipy\n",
    "import csv \n",
    "import json\n",
    "import requests\n",
    "import urllib.request\n",
    "from decimal import Decimal\n",
    "import random\n",
    "import pandas as pd \n",
    "city = citipy._world_cities_csv_path\n",
    "city_coord ={}\n",
    "city_weather ={}\n",
    "\n"
   ]
  },
  {
   "source": [
    "with open(city) as city_csv:\n",
    "    cityread = csv.reader(city_csv,delimiter=\",\")\n",
    "    #rowcount= sum(1 for line in cityread ) #counts number of rows in the csv\n",
    "    line_count = 0\n",
    "    j = random.sample(range(1,46833),500)\n",
    "    Num = sorted(j)\n",
    "    for row in cityread:\n",
    "        if line_count==0:\n",
    "            line_count += 1\n",
    "            #print(\"run1\")\n",
    "        else:\n",
    "            #print(\"run2\")\n",
    "            line_count += 1\n",
    "            if line_count == Num[0]:\n",
    "                    city_coord[row[1]] = [row[2],row[3]]\n",
    "                    Num.remove(Num[0])\n",
    "\n",
    "        if len(Num)==0:\n",
    "            break    \n",
    "\n",
    "    # print(f'Processed {line_count} lines.',len(city_coord),city_coord)\n",
    "         \n"
   ],
   "cell_type": "code",
   "metadata": {
    "tags": []
   },
   "execution_count": 7,
   "outputs": []
  },
  {
   "cell_type": "code",
   "execution_count": 8,
   "metadata": {},
   "outputs": [],
   "source": [
    "cloudiness = []\n",
    "country = []\n",
    "date = []\n",
    "max_temp = []\n",
    "humidity = []\n",
    "lat = []\n",
    "lng = []\n",
    "wind_speed = []\n",
    "city_name = []"
   ]
  },
  {
   "cell_type": "code",
   "execution_count": 9,
   "metadata": {
    "tags": []
   },
   "outputs": [
    {
     "output_type": "stream",
     "name": "stdout",
     "text": "Processing record 1|jurm\nProcessing record 2|berat\nProcessing record 3|mercedes\nProcessing record 4|rio gallegos\nProcessing record 5|salta\nProcessing record 6|klagenfurt\nProcessing record 7|salzburg\nProcessing record 8|zeltweg\nProcessing record 9|hadrut\nProcessing record 10|livno\nProcessing record 11|zenica\nProcessing record 12|sarankhola\nProcessing record 13|izegem\nProcessing record 14|mol\nProcessing record 15|tougan\nCity not found\nCity not found\nProcessing record 16|cliza\nProcessing record 17|alem paraiba\nProcessing record 18|barreirinhas\nProcessing record 19|baturite\nProcessing record 20|carauari\nProcessing record 21|conselheiro pena\nProcessing record 22|currais novos\nProcessing record 23|fernandopolis\nProcessing record 24|flores\nProcessing record 25|itaporanga\nProcessing record 26|macau\nProcessing record 27|mangaratiba\nProcessing record 28|marechal floriano\nProcessing record 29|matozinhos\nProcessing record 30|paranaiba\nProcessing record 31|presidente olegario\nProcessing record 32|ribeirao pires\nProcessing record 33|santo estevao\nProcessing record 34|sao joao de meriti\nProcessing record 35|sao joao de pirabas\nProcessing record 36|sao luiz gonzaga\nProcessing record 37|sao raimundo nonato\nProcessing record 38|timbiras\nProcessing record 39|vazante\nProcessing record 40|lyuban\nProcessing record 41|stolin\nProcessing record 42|camrose\nProcessing record 43|kentville\nCity not found\nProcessing record 44|truro\nProcessing record 45|bouar\nProcessing record 46|buchs\nProcessing record 47|ecublens\nProcessing record 48|langnau\nProcessing record 49|abidjan\nProcessing record 50|san bernardo\nProcessing record 51|ankang\nProcessing record 52|hengshan\nProcessing record 53|lengshuijiang\nProcessing record 54|pulandian\nProcessing record 55|shouguang\nProcessing record 56|abrego\nProcessing record 57|anzoategui\nProcessing record 58|campo de la cruz\nProcessing record 59|florencia\nProcessing record 60|libano\nProcessing record 61|macaravita\nProcessing record 62|marmato\nProcessing record 63|puerto asis\nProcessing record 64|sachica\nProcessing record 65|san francisco\nProcessing record 66|san pelayo\nProcessing record 67|santa maria\nProcessing record 68|tasco\nProcessing record 69|tunja\nProcessing record 70|ubala\nProcessing record 71|villanueva\nProcessing record 72|yolombo\nProcessing record 73|bauta\nProcessing record 74|ceske velenice\nProcessing record 75|jilove u prahy\nProcessing record 76|lazne bohdanec\nProcessing record 77|milovice\nProcessing record 78|modrice\nProcessing record 79|novy hrozenkov\nProcessing record 80|sumperk\nProcessing record 81|zastavka\nProcessing record 82|zbiroh\nProcessing record 83|alzenau\nProcessing record 84|bad aibling\nProcessing record 85|bad bevensen\nProcessing record 86|bad gandersheim\nProcessing record 87|blankenburg\nProcessing record 88|detmold\nProcessing record 89|eppelborn\nProcessing record 90|essen\nProcessing record 91|hasbergen\nProcessing record 92|hirschaid\nProcessing record 93|kassel\nProcessing record 94|mettmann\nProcessing record 95|neunkirchen\nProcessing record 96|plochingen\nProcessing record 97|rinteln\nProcessing record 98|treuchtlingen\nProcessing record 99|usingen\nProcessing record 100|werl\nProcessing record 101|dronninglund\nProcessing record 102|holstebro\nProcessing record 103|bajos de haina\nCity not found\nProcessing record 104|latacunga\nProcessing record 105|portoviejo\nProcessing record 106|santa rosa\nProcessing record 107|vinces\nCity not found\nProcessing record 108|tahta\nProcessing record 109|aviles\nProcessing record 110|bembibre\nProcessing record 111|laguna de duero\nProcessing record 112|santa marta de tormes\nProcessing record 113|awash\nProcessing record 114|nedjo\nProcessing record 115|uusikaupunki\nProcessing record 116|fontenay-le-fleury\nProcessing record 117|la ferte-bernard\nProcessing record 118|nimes\nProcessing record 119|revin\nProcessing record 120|saint-fons\nProcessing record 121|saint-michel-sur-orge\nProcessing record 122|senlis\nCity not found\nProcessing record 123|bathgate\nProcessing record 124|dunfermline\nProcessing record 125|gillingham\nProcessing record 126|guildford\nProcessing record 127|kinloss\nProcessing record 128|mansfield\nProcessing record 129|north shields\nProcessing record 130|rochester\nProcessing record 131|waterlooville\nProcessing record 132|bawku\nProcessing record 133|amisiana\nProcessing record 134|aneza\nProcessing record 135|anthili\nProcessing record 136|ayia paraskevi\nProcessing record 137|gavalou\nProcessing record 138|kastella\nProcessing record 139|kastrakion\nProcessing record 140|kitros\nProcessing record 141|melission\nProcessing record 142|melivoia\nProcessing record 143|mikrokambos\nProcessing record 144|sparti\nCity not found\nProcessing record 145|chahal\nProcessing record 146|el chol\nProcessing record 147|san pablo\nProcessing record 148|san pedro ayampuc\nProcessing record 149|zunil\nProcessing record 150|campamento\nProcessing record 151|lamani\nProcessing record 152|monterrey\nProcessing record 153|ojo de agua\nProcessing record 154|bugac\nProcessing record 155|cegled\nProcessing record 156|harkany\nProcessing record 157|kaszaper\nProcessing record 158|poroszlo\nProcessing record 159|rackeve\nProcessing record 160|szigetvar\nProcessing record 161|tapioszentmarton\nProcessing record 162|tiszalok\nProcessing record 163|ujkigyos\nProcessing record 164|varpalota\nProcessing record 165|bae\nProcessing record 166|belawan\nProcessing record 167|lhokseumawe\nProcessing record 168|mertoyudan\nProcessing record 169|muncar\nProcessing record 170|perbaungan\nProcessing record 171|waru\nProcessing record 172|deir hanna\nProcessing record 173|fassuta\nCity not found\nProcessing record 174|begampur\nProcessing record 175|cuddapah\nProcessing record 176|dadri\nProcessing record 177|dinhata\nProcessing record 178|gariadhar\nProcessing record 179|hirakud\nProcessing record 180|irugur\nProcessing record 181|jodhpur\nProcessing record 182|kakori\nProcessing record 183|khandela\nProcessing record 184|kheralu\nProcessing record 185|khilchipur\nProcessing record 186|kilakarai\nProcessing record 187|koregaon\nProcessing record 188|kundla\nCity not found\nProcessing record 189|mankapur\nProcessing record 190|manpur\nCity not found\nProcessing record 191|parnera\nProcessing record 192|periyakulam\nProcessing record 193|pipri\nProcessing record 194|qadian\nProcessing record 195|rae bareli\nProcessing record 196|sanquelim\nProcessing record 197|soro\nProcessing record 198|talgram\nProcessing record 199|tohana\nProcessing record 200|rawah\nProcessing record 201|javanrud\nProcessing record 202|husavik\nProcessing record 203|aradeo\nProcessing record 204|brusciano\nProcessing record 205|grottaferrata\nProcessing record 206|oria\nProcessing record 207|pieve di soligo\nProcessing record 208|racale\nProcessing record 209|racalmuto\nProcessing record 210|recco\nProcessing record 211|sarezzo\nProcessing record 212|tradate\nProcessing record 213|vibo valentia\nProcessing record 214|mandeville\nProcessing record 215|maroon town\nProcessing record 216|iwata\nProcessing record 217|kitahiroshima\nProcessing record 218|komatsushima\nProcessing record 219|minamiashigara\nProcessing record 220|misawa\nProcessing record 221|mishima\nProcessing record 222|odate\nProcessing record 223|shintomi\nProcessing record 224|takahagi\nProcessing record 225|tanabe\nProcessing record 226|badulla\nProcessing record 227|ariogala\nProcessing record 228|ignalina\nProcessing record 229|kalvarija\nProcessing record 230|crauthem\nProcessing record 231|keispelt\nProcessing record 232|lamadelaine\nProcessing record 233|leudelange\nProcessing record 234|schifflange\nProcessing record 235|madona\nProcessing record 236|amboasary\nProcessing record 237|vrapciste\nProcessing record 238|myitkyina\nCity not found\nProcessing record 239|cascavelle\nProcessing record 240|actipan\nCity not found\nProcessing record 241|cansahcab\nProcessing record 242|constitucion\nCity not found\nProcessing record 243|cuitareo\nProcessing record 244|dzemul\nProcessing record 245|los mochis\nProcessing record 246|nativitas\nProcessing record 247|san ciro de acosta\nProcessing record 248|san felipe\nProcessing record 249|soto la marina\nCity not found\nProcessing record 250|teopisca\nProcessing record 251|tlalchapa\nCity not found\nProcessing record 252|tlaquepaque\nProcessing record 253|villagran\nProcessing record 254|villa union\nCity not found\nProcessing record 255|maputo\nProcessing record 256|ondo\nProcessing record 257|sokoto\nProcessing record 258|bluefields\nProcessing record 259|bergen op zoom\nProcessing record 260|bunnik\nProcessing record 261|didam\nProcessing record 262|haarlemmermeer\nProcessing record 263|hilversum\nProcessing record 264|leiden\nProcessing record 265|steenwijk\nProcessing record 266|alta\nProcessing record 267|aras\nProcessing record 268|hareid\nProcessing record 269|hunterville\nProcessing record 270|kawhia\nProcessing record 271|mamaku\nProcessing record 272|paengaroa\nProcessing record 273|chichica\nProcessing record 274|el real de santa maria\nProcessing record 275|la mata\nProcessing record 276|puerto escondido\nProcessing record 277|paramonga\nProcessing record 278|zorritos\nProcessing record 279|kiunga\nProcessing record 280|panguna\nProcessing record 281|alimono\nProcessing record 282|amacalan\nProcessing record 283|astorga\nProcessing record 284|baculin\nProcessing record 285|balele\nProcessing record 286|balingasay\nProcessing record 287|bolo\nProcessing record 288|cabagan\nProcessing record 289|calamba\nProcessing record 290|calumpang\nProcessing record 291|carmen\nProcessing record 292|codcod\nProcessing record 293|damilag\nProcessing record 294|divisoria\nProcessing record 295|hukay\nProcessing record 296|klinan\nProcessing record 297|liberty\nProcessing record 298|lloren\nProcessing record 299|mabilang\nProcessing record 300|maluno\nProcessing record 301|nanca\nProcessing record 302|pancol\nProcessing record 303|panlinlang\nCity not found\nProcessing record 304|pawak\nProcessing record 305|puncan\nProcessing record 306|putingkahoy\nProcessing record 307|quilo-quilo\nProcessing record 308|samal\nProcessing record 309|san casimiro\nProcessing record 310|san gregorio\nProcessing record 311|san pedro\nProcessing record 312|santo domingo\nProcessing record 313|sinilian\nProcessing record 314|talaibon\nProcessing record 315|talipan\nCity not found\nProcessing record 316|kamra\nProcessing record 317|mirpur khas\nProcessing record 318|sanghar\nProcessing record 319|darlowo\nProcessing record 320|jawor\nProcessing record 321|lask\nProcessing record 322|leczna\nProcessing record 323|pruszkow\nProcessing record 324|wisla\nProcessing record 325|wloclawek\nProcessing record 326|zdzieszowice\nProcessing record 327|zlotoryja\nProcessing record 328|charneca de caparica\nProcessing record 329|coruche\nProcessing record 330|milharado\nProcessing record 331|moreira\nProcessing record 332|poiares\nProcessing record 333|povoa de santa iria\nProcessing record 334|quinta do anjo\nProcessing record 335|doctor juan leon mallorquin\nProcessing record 336|tacuati\nProcessing record 337|barca\nProcessing record 338|bilciuresti\nProcessing record 339|bradesti\nCity not found\nProcessing record 340|chiojdu\nProcessing record 341|ciorogarla\nProcessing record 342|comandau\nProcessing record 343|cristinesti\nProcessing record 344|eselnita\nProcessing record 345|ezeris\nProcessing record 346|fundata\nProcessing record 347|leleasca\nProcessing record 348|licuriciu\nProcessing record 349|magesti\nProcessing record 350|magureni\nProcessing record 351|micesti\nProcessing record 352|mihaileni\nProcessing record 353|nicolae balcescu\nCity not found\nProcessing record 354|rebrisoara\nProcessing record 355|runcu\nProcessing record 356|siretel\nProcessing record 357|targu jiu\nProcessing record 358|topana\nProcessing record 359|bogatic\nProcessing record 360|coka\nProcessing record 361|majdanpek\nProcessing record 362|vojka\nProcessing record 363|arya\nCity not found\nProcessing record 364|baltay\nProcessing record 365|bilibino\nCity not found\nProcessing record 366|erzin\nProcessing record 367|imeni vorovskogo\nProcessing record 368|kanevskaya\nProcessing record 369|kyshtym\nProcessing record 370|kyzyl-mazhalyk\nProcessing record 371|lesnyye polyany\nProcessing record 372|luzino\nProcessing record 373|mirnyy\nProcessing record 374|nizhniy mamon\nProcessing record 375|novominskaya\nProcessing record 376|paraul\nProcessing record 377|pavlovsk\nProcessing record 378|petropavlovskoye\nProcessing record 379|podsineye\nProcessing record 380|promyshlennaya\nProcessing record 381|radchenko\nProcessing record 382|rameshki\nProcessing record 383|romanovka\nProcessing record 384|shamary\nProcessing record 385|shigony\nProcessing record 386|stodolishche\nProcessing record 387|strunino\nProcessing record 388|surovatikha\nProcessing record 389|turgenevo\nProcessing record 390|verkhnedneprovskiy\nCity not found\nProcessing record 391|yuzhnyy\nProcessing record 392|ljungby\nProcessing record 393|mjolby\nCity not found\nProcessing record 394|holic\nProcessing record 395|trstena\nProcessing record 396|tacuba\nProcessing record 397|huai thalaeng\nProcessing record 398|phimai\nProcessing record 399|yala\nProcessing record 400|buzmeyin\nProcessing record 401|masakin\nProcessing record 402|radis\nProcessing record 403|van\nProcessing record 404|putai\nProcessing record 405|kakonko\nProcessing record 406|mabama\nProcessing record 407|tukuyu\nProcessing record 408|usevya\nProcessing record 409|adzhamka\nProcessing record 410|bili oslavy\nProcessing record 411|bilozerka\nProcessing record 412|cherkasy\nProcessing record 413|holovyne\nProcessing record 414|hrymayliv\nProcessing record 415|khotiv\nProcessing record 416|kolodenka\nProcessing record 417|letychiv\nProcessing record 418|novopokrovka\nProcessing record 419|novovorontsovka\nProcessing record 420|shevchenko\nProcessing record 421|stara synyava\nProcessing record 422|verkhovyna\nProcessing record 423|voloka\nProcessing record 424|yarke pole\nProcessing record 425|zhovtneve\nProcessing record 426|zolotonosha\nProcessing record 427|soroti\nProcessing record 428|florence\nProcessing record 429|bella vista\nProcessing record 430|east foothills\nProcessing record 431|el sobrante\nProcessing record 432|fairview\nProcessing record 433|grass valley\nProcessing record 434|la verne\nProcessing record 435|rancho santa margarita\nProcessing record 436|derby\nProcessing record 437|east hartford\nProcessing record 438|claymont\nProcessing record 439|casselberry\nProcessing record 440|coral springs\nProcessing record 441|cypress gardens\nProcessing record 442|port charlotte\nProcessing record 443|forest park\nProcessing record 444|hilo\nProcessing record 445|effingham\nProcessing record 446|elk grove village\nProcessing record 447|okolona\nProcessing record 448|winthrop\nProcessing record 449|kettering\nProcessing record 450|norton\nProcessing record 451|fraser\nProcessing record 452|livonia\nProcessing record 453|festus\nProcessing record 454|kirksville\nProcessing record 455|lebanon\nProcessing record 456|new london\nProcessing record 457|palisades park\nProcessing record 458|west orange\nProcessing record 459|elmira\nProcessing record 460|monsey\nProcessing record 461|apex\nProcessing record 462|vermilion\nProcessing record 463|east norriton\nProcessing record 464|west chester\nProcessing record 465|rockwall\nProcessing record 466|newport\nProcessing record 467|grafton\nProcessing record 468|pewaukee\nProcessing record 469|florida\nProcessing record 470|eshowe\nProcessing record 471|margate\nProcessing record 472|molteno\nProcessing record 473|zastron\nProcessing record 474|chipata\nProcessing record 475|lukulu\nProcessing record 476|sesheke\n"
    }
   ],
   "source": [
    "k=1\n",
    "for i,j in city_coord.items():\n",
    "  req = f\"http://api.openweathermap.org/data/2.5/weather?q={i}&appid=1e08dff2a8490d51b4a0f2ab8c1e919e\"\n",
    "  response = requests.get(req).json()\n",
    "  try:\n",
    "        cloudiness.append(response[\"clouds\"][\"all\"])\n",
    "        country.append(response[\"sys\"][\"country\"])\n",
    "        date.append(response[\"dt\"])\n",
    "        max_temp.append(response[\"main\"]['temp_max'])\n",
    "        humidity.append(response[\"main\"]['humidity'])\n",
    "        lat.append(response[\"coord\"][\"lat\"])  \n",
    "        lng.append(response[\"coord\"][\"lon\"])\n",
    "        wind_speed.append(response[\"wind\"][\"speed\"])\n",
    "        city_name.append(i)\n",
    "        print(f\"Processing record {k}|{i}\")\n",
    "        k+=1\n",
    "  except:\n",
    "    print(\"City not found\")\n",
    "  \n",
    "    "
   ]
  },
  {
   "cell_type": "code",
   "execution_count": 15,
   "metadata": {},
   "outputs": [],
   "source": [
    "city_pd = pd.DataFrame({\"City\":city_name, \n",
    "                        \"Cloudiness\":cloudiness, \n",
    "                        \"Country\":country, \n",
    "                        \"Date\":date, \n",
    "                        \"Humidity\":humidity,\n",
    "                        \"Lat\":lat,\n",
    "                        \"Lng\":lng,\n",
    "                        \"Max Temp\":max_temp,\n",
    "                        \"Wind Speed\":wind_speed\n",
    "                                                })\n",
    "city_pd = city_pd.rename_axis('City ID')"
   ]
  },
  {
   "cell_type": "code",
   "execution_count": null,
   "metadata": {},
   "outputs": [],
   "source": [
    "city_pd = city_df.to_csv(\"city_list.cv\")\n",
    "city_pd.head()"
   ]
  }
 ]
}