{
 "metadata": {
  "language_info": {
   "codemirror_mode": {
    "name": "ipython",
    "version": 3
   },
   "file_extension": ".py",
   "mimetype": "text/x-python",
   "name": "python",
   "nbconvert_exporter": "python",
   "pygments_lexer": "ipython3",
   "version": "3.8.3-final"
  },
  "orig_nbformat": 2,
  "kernelspec": {
   "name": "Python 3.8.3 64-bit",
   "display_name": "Python 3.8.3 64-bit",
   "metadata": {
    "interpreter": {
     "hash": "2db524e06e9f5f4ffedc911c917cb75e12dbc923643829bf417064a77eb14d37"
    }
   }
  }
 },
 "nbformat": 4,
 "nbformat_minor": 2,
 "cells": [
  {
   "cell_type": "code",
   "execution_count": null,
   "metadata": {},
   "outputs": [],
   "source": [
    "from citipy import citipy\n",
    "import csv \n",
    "import json\n",
    "import requests\n",
    "city = citipy._world_cities_csv_path\n",
    "city_lat =[]\n",
    "city_long =[]\n",
    "city_coord =[]\n",
    "\n",
    "\n"
   ]
  },
  {
   "cell_type": "code",
   "execution_count": null,
   "metadata": {
    "tags": []
   },
   "outputs": [],
   "source": [
    "with open(city) as city_csv:\n",
    "    cityread = csv.reader(city_csv,delimiter=\",\")\n",
    "    line_count = 0\n",
    "    for row in cityread:\n",
    "        if line_count == 0:\n",
    "            line_count += 1\n",
    "        else:\n",
    "            city_lat.append(row[2])\n",
    "            city_long.append(row[3])\n",
    "            city_coord.append(list(zip(city_lat,city_long)))\n",
    "            line_count += 1\n",
    "\n",
    "        if line_count == 500:\n",
    "             break\n",
    "\n",
    "    print(f'Processed {line_count} lines.')\n",
    "         \n"
   ]
  },
  {
   "cell_type": "code",
   "execution_count": null,
   "metadata": {
    "tags": [
     "outputPrepend"
    ]
   },
   "outputs": [],
   "source": [
    "resp = requests.post("
   ]
  }
 ]
}